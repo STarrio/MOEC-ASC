{
 "cells": [
  {
   "cell_type": "markdown",
   "metadata": {},
   "source": [
    "## Testing notebook"
   ]
  },
  {
   "cell_type": "code",
   "execution_count": 1,
   "metadata": {},
   "outputs": [],
   "source": [
    "import algorithm as a1\n",
    "import zdt3\n",
    "import cf6_4d\n",
    "import numpy as np\n",
    "import matplotlib.pyplot as plt\n",
    "import parsing as p"
   ]
  },
  {
   "cell_type": "code",
   "execution_count": 2,
   "metadata": {},
   "outputs": [],
   "source": [
    "zdt = zdt3.ZDT3()"
   ]
  },
  {
   "cell_type": "code",
   "execution_count": 363,
   "metadata": {},
   "outputs": [],
   "source": [
    "cf6 = cf6_4d.CF6()"
   ]
  },
  {
   "cell_type": "markdown",
   "metadata": {},
   "source": [
    "# Testing"
   ]
  },
  {
   "cell_type": "markdown",
   "metadata": {},
   "source": [
    "## ZDT3 Problem unconstrained"
   ]
  },
  {
   "cell_type": "markdown",
   "metadata": {},
   "source": [
    "### Base implementation vs NSGAII\n",
    "Budget of 4000 evaluations.\n",
    "* Population: 40\n",
    "* Generations: 100\n",
    "* Neighbourhood: 20"
   ]
  },
  {
   "cell_type": "code",
   "execution_count": 40,
   "metadata": {},
   "outputs": [],
   "source": [
    "moec = a1.MOEC(40,100,20,0.5,0.5,20,\"DE\",\"zdt3_p40_g100.out\")"
   ]
  },
  {
   "cell_type": "code",
   "execution_count": 41,
   "metadata": {},
   "outputs": [
    {
     "name": "stdout",
     "output_type": "stream",
     "text": [
      "Finished\n"
     ]
    }
   ],
   "source": [
    "frente = moec.run()"
   ]
  },
  {
   "cell_type": "markdown",
   "metadata": {},
   "source": [
    "Diversity preservation (number of unique individuals from a population of 40)"
   ]
  },
  {
   "cell_type": "code",
   "execution_count": 42,
   "metadata": {},
   "outputs": [
    {
     "data": {
      "text/plain": [
       "27"
      ]
     },
     "execution_count": 42,
     "metadata": {},
     "output_type": "execute_result"
    }
   ],
   "source": [
    "len(np.unique(frente, axis=0))"
   ]
  },
  {
   "cell_type": "code",
   "execution_count": 43,
   "metadata": {},
   "outputs": [],
   "source": [
    "res_1 = np.array([zdt.func(c)[0] for c in frente])\n",
    "res_2 = np.array([zdt.func(c)[1] for c in frente])"
   ]
  },
  {
   "cell_type": "code",
   "execution_count": 9,
   "metadata": {},
   "outputs": [],
   "source": [
    "nsga_x,nsga_y = p.read_plotout(\"NSGAII_outs/ZDT3/plot_zdt3_p40_g100.out\")"
   ]
  },
  {
   "cell_type": "code",
   "execution_count": 239,
   "metadata": {
    "scrolled": true
   },
   "outputs": [
    {
     "ename": "NameError",
     "evalue": "name 'res_1' is not defined",
     "output_type": "error",
     "traceback": [
      "\u001b[0;31m---------------------------------------------------------------------------\u001b[0m",
      "\u001b[0;31mNameError\u001b[0m                                 Traceback (most recent call last)",
      "\u001b[0;32m<ipython-input-239-72eade0c3ecb>\u001b[0m in \u001b[0;36m<module>\u001b[0;34m()\u001b[0m\n\u001b[0;32m----> 1\u001b[0;31m \u001b[0mplt\u001b[0m\u001b[0;34m.\u001b[0m\u001b[0mplot\u001b[0m\u001b[0;34m(\u001b[0m\u001b[0mres_1\u001b[0m\u001b[0;34m,\u001b[0m\u001b[0mres_2\u001b[0m\u001b[0;34m,\u001b[0m\u001b[0;34m'bo'\u001b[0m\u001b[0;34m)\u001b[0m\u001b[0;34m\u001b[0m\u001b[0m\n\u001b[0m\u001b[1;32m      2\u001b[0m \u001b[0mplt\u001b[0m\u001b[0;34m.\u001b[0m\u001b[0mplot\u001b[0m\u001b[0;34m(\u001b[0m\u001b[0mnsga_x\u001b[0m\u001b[0;34m,\u001b[0m\u001b[0mnsga_y\u001b[0m\u001b[0;34m,\u001b[0m\u001b[0;34m'ro'\u001b[0m\u001b[0;34m)\u001b[0m\u001b[0;34m\u001b[0m\u001b[0m\n\u001b[1;32m      3\u001b[0m \u001b[0mplt\u001b[0m\u001b[0;34m.\u001b[0m\u001b[0mxlabel\u001b[0m\u001b[0;34m(\u001b[0m\u001b[0;34m\"Objective 1\"\u001b[0m\u001b[0;34m)\u001b[0m\u001b[0;34m\u001b[0m\u001b[0m\n\u001b[1;32m      4\u001b[0m \u001b[0mplt\u001b[0m\u001b[0;34m.\u001b[0m\u001b[0mylabel\u001b[0m\u001b[0;34m(\u001b[0m\u001b[0;34m\"Objective 2\"\u001b[0m\u001b[0;34m)\u001b[0m\u001b[0;34m\u001b[0m\u001b[0m\n\u001b[1;32m      5\u001b[0m \u001b[0mplt\u001b[0m\u001b[0;34m.\u001b[0m\u001b[0mshow\u001b[0m\u001b[0;34m(\u001b[0m\u001b[0;34m)\u001b[0m\u001b[0;34m\u001b[0m\u001b[0m\n",
      "\u001b[0;31mNameError\u001b[0m: name 'res_1' is not defined"
     ]
    }
   ],
   "source": [
    "plt.plot(res_1,res_2,'bo')\n",
    "plt.plot(nsga_x,nsga_y,'ro')\n",
    "plt.xlabel(\"Objective 1\")\n",
    "plt.ylabel(\"Objective 2\")\n",
    "plt.show()"
   ]
  },
  {
   "cell_type": "code",
   "execution_count": null,
   "metadata": {},
   "outputs": [],
   "source": []
  },
  {
   "cell_type": "code",
   "execution_count": null,
   "metadata": {},
   "outputs": [],
   "source": []
  },
  {
   "cell_type": "markdown",
   "metadata": {},
   "source": [
    "### Base implementation vs NSGAII\n",
    "Budget of 3960 evaluations.\n",
    "* Population: 60\n",
    "* Generations: 66\n",
    "* Neighbourhood: 20"
   ]
  },
  {
   "cell_type": "code",
   "execution_count": 111,
   "metadata": {},
   "outputs": [],
   "source": [
    "moec_2 = a1.MOEC(60,66,50,0.5,0.5,20,\"DE\",\"zdt3_p60_g66.out\")"
   ]
  },
  {
   "cell_type": "code",
   "execution_count": 112,
   "metadata": {},
   "outputs": [
    {
     "name": "stdout",
     "output_type": "stream",
     "text": [
      "Finished\n"
     ]
    }
   ],
   "source": [
    "frente_2 = moec_2.run()"
   ]
  },
  {
   "cell_type": "markdown",
   "metadata": {},
   "source": [
    "Diversity preservation (number of unique individuals from a population of 50)"
   ]
  },
  {
   "cell_type": "code",
   "execution_count": 113,
   "metadata": {},
   "outputs": [
    {
     "data": {
      "text/plain": [
       "26"
      ]
     },
     "execution_count": 113,
     "metadata": {},
     "output_type": "execute_result"
    }
   ],
   "source": [
    "len(np.unique(frente_2, axis=0))"
   ]
  },
  {
   "cell_type": "code",
   "execution_count": 114,
   "metadata": {},
   "outputs": [],
   "source": [
    "res_3 = np.array([zdt.func(c)[0] for c in frente_2])\n",
    "res_4 = np.array([zdt.func(c)[1] for c in frente_2])"
   ]
  },
  {
   "cell_type": "code",
   "execution_count": 116,
   "metadata": {},
   "outputs": [],
   "source": [
    "nsga_x,nsga_y = p.read_plotout(\"NSGAII_outs/ZDT3/plot_zdt3_p60_g66.out\")"
   ]
  },
  {
   "cell_type": "code",
   "execution_count": 117,
   "metadata": {},
   "outputs": [
    {
     "data": {
      "image/png": "[encoded data removed]",
      "text/plain": [
       "<Figure size 432x288 with 1 Axes>"
      ]
     },
     "metadata": {},
     "output_type": "display_data"
    }
   ],
   "source": [
    "plt.plot(res_3,res_4,'bo')\n",
    "plt.plot(nsga_x,nsga_y,'ro')\n",
    "plt.xlabel(\"Objective 1\")\n",
    "plt.ylabel(\"Objective 2\")\n",
    "plt.show()"
   ]
  },
  {
   "cell_type": "markdown",
   "metadata": {},
   "source": [
    "### Base implementation vs NSGAII\n",
    "Budget of 4000 evaluations.\n",
    "* Population: 80\n",
    "* Generations: 50\n",
    "* Neighbourhood: 50"
   ]
  },
  {
   "cell_type": "code",
   "execution_count": 118,
   "metadata": {},
   "outputs": [],
   "source": [
    "moec_3 = a1.MOEC(80,50,50,0.5,0.5,20,\"DE\",\"zdt3_p60_g66.out\")"
   ]
  },
  {
   "cell_type": "code",
   "execution_count": 119,
   "metadata": {},
   "outputs": [
    {
     "name": "stdout",
     "output_type": "stream",
     "text": [
      "Finished\n"
     ]
    }
   ],
   "source": [
    "frente_3 = moec_3.run()"
   ]
  },
  {
   "cell_type": "markdown",
   "metadata": {},
   "source": [
    "Diversity preservation (number of unique individuals from a population of 50)"
   ]
  },
  {
   "cell_type": "code",
   "execution_count": 120,
   "metadata": {},
   "outputs": [
    {
     "data": {
      "text/plain": [
       "30"
      ]
     },
     "execution_count": 120,
     "metadata": {},
     "output_type": "execute_result"
    }
   ],
   "source": [
    "len(np.unique(frente_3, axis=0))"
   ]
  },
  {
   "cell_type": "code",
   "execution_count": 121,
   "metadata": {},
   "outputs": [],
   "source": [
    "res_5 = np.array([zdt.func(c)[0] for c in frente_3])\n",
    "res_6 = np.array([zdt.func(c)[1] for c in frente_3])"
   ]
  },
  {
   "cell_type": "code",
   "execution_count": 122,
   "metadata": {},
   "outputs": [],
   "source": [
    "nsga_x,nsga_y = p.read_plotout(\"NSGAII_outs/ZDT3/plot_zdt3_p80_g50.out\")"
   ]
  },
  {
   "cell_type": "code",
   "execution_count": 131,
   "metadata": {},
   "outputs": [
    {
     "data": {
      "image/png": "[encoded data removed]",
      "text/plain": [
       "<Figure size 432x288 with 1 Axes>"
      ]
     },
     "metadata": {},
     "output_type": "display_data"
    }
   ],
   "source": [
    "plt.plot(res_5,res_6,'bo',label=\"MOEC\")\n",
    "plt.plot(nsga_x,nsga_y,'ro',label=\"NSGAII\")\n",
    "plt.show()"
   ]
  },
  {
   "cell_type": "markdown",
   "metadata": {},
   "source": [
    "### Base implementation vs NSGAII\n",
    "Budget of 4000 evaluations.\n",
    "* Population: 100\n",
    "* Generations: 40\n",
    "* Neighbourhood: 50"
   ]
  },
  {
   "cell_type": "code",
   "execution_count": 54,
   "metadata": {},
   "outputs": [],
   "source": [
    "moec_4 = a1.MOEC(100,40,50,0.5,0.5,20,\"DE\",\"zdt3_p100_g40.out\")"
   ]
  },
  {
   "cell_type": "code",
   "execution_count": 55,
   "metadata": {},
   "outputs": [
    {
     "name": "stdout",
     "output_type": "stream",
     "text": [
      "Finished\n"
     ]
    }
   ],
   "source": [
    "frente_4 = moec_4.run()"
   ]
  },
  {
   "cell_type": "markdown",
   "metadata": {},
   "source": [
    "Diversity preservation (number of unique individuals from a population of 50)"
   ]
  },
  {
   "cell_type": "code",
   "execution_count": 56,
   "metadata": {},
   "outputs": [
    {
     "data": {
      "text/plain": [
       "41"
      ]
     },
     "execution_count": 56,
     "metadata": {},
     "output_type": "execute_result"
    }
   ],
   "source": [
    "len(np.unique(frente_4, axis=0))"
   ]
  },
  {
   "cell_type": "code",
   "execution_count": 57,
   "metadata": {},
   "outputs": [],
   "source": [
    "nsga_x,nsga_y = p.read_plotout(\"NSGAII_outs/ZDT3/plot_zdt3_p100_g40.out\")"
   ]
  },
  {
   "cell_type": "code",
   "execution_count": 58,
   "metadata": {},
   "outputs": [],
   "source": [
    "res_7 = np.array([zdt.func(c)[0] for c in frente_4])\n",
    "res_8 = np.array([zdt.func(c)[1] for c in frente_4])"
   ]
  },
  {
   "cell_type": "code",
   "execution_count": 237,
   "metadata": {},
   "outputs": [
    {
     "data": {
      "image/png": "[encoded data removed]",
      "text/plain": [
       "<Figure size 432x288 with 1 Axes>"
      ]
     },
     "metadata": {},
     "output_type": "display_data"
    }
   ],
   "source": [
    "plt.plot(res_7,res_8,'bo',label=\"MOEC\")\n",
    "plt.plot(nsga_x,nsga_y,'ro',label=\"NSGAII\")\n",
    "plt.xlabel(\"Objective 1\")\n",
    "plt.ylabel(\"Objective 2\")\n",
    "plt.show()"
   ]
  },
  {
   "cell_type": "markdown",
   "metadata": {},
   "source": [
    "### Base implementation vs NSGAII\n",
    "Budget of 4000 evaluations.\n",
    "* Population: 160\n",
    "* Generations: 25\n",
    "* Neighbourhood: 100"
   ]
  },
  {
   "cell_type": "code",
   "execution_count": 62,
   "metadata": {},
   "outputs": [],
   "source": [
    "moec_5 = a1.MOEC(160,25,100,0.5,0.5,20,\"DE\",\"zdt3_p160_g25.out\")"
   ]
  },
  {
   "cell_type": "code",
   "execution_count": 63,
   "metadata": {},
   "outputs": [
    {
     "name": "stdout",
     "output_type": "stream",
     "text": [
      "Finished\n"
     ]
    }
   ],
   "source": [
    "frente_5 = moec_5.run()"
   ]
  },
  {
   "cell_type": "markdown",
   "metadata": {},
   "source": [
    "Diversity preservation (number of unique individuals from a population of 50)"
   ]
  },
  {
   "cell_type": "code",
   "execution_count": 64,
   "metadata": {},
   "outputs": [
    {
     "data": {
      "text/plain": [
       "35"
      ]
     },
     "execution_count": 64,
     "metadata": {},
     "output_type": "execute_result"
    }
   ],
   "source": [
    "len(np.unique(frente_5, axis=0))"
   ]
  },
  {
   "cell_type": "code",
   "execution_count": 240,
   "metadata": {},
   "outputs": [],
   "source": [
    "nsga_x,nsga_y = p.read_plotout(\"NSGAII_outs/ZDT3/plot_zdt3_p160_g25.out\")"
   ]
  },
  {
   "cell_type": "code",
   "execution_count": 241,
   "metadata": {},
   "outputs": [],
   "source": [
    "res_9 = np.array([zdt.func(c)[0] for c in frente_5])\n",
    "res_10 = np.array([zdt.func(c)[1] for c in frente_5])"
   ]
  },
  {
   "cell_type": "code",
   "execution_count": 242,
   "metadata": {},
   "outputs": [
    {
     "data": {
      "image/png": "[encoded data removed]",
      "text/plain": [
       "<Figure size 432x288 with 1 Axes>"
      ]
     },
     "metadata": {},
     "output_type": "display_data"
    }
   ],
   "source": [
    "plt.plot(res_9,res_10,'bo',label=\"MOEC\")\n",
    "plt.plot(nsga_x,nsga_y,'ro',label=\"NSGA\")\n",
    "plt.xlabel(\"Objective 1\")\n",
    "plt.ylabel(\"Objective 2\")\n",
    "plt.legend(bbox_to_anchor=(1.05, 1), loc=2, borderaxespad=0.)\n",
    "plt.show()"
   ]
  },
  {
   "cell_type": "markdown",
   "metadata": {},
   "source": [
    "### Base implementation vs NSGAII\n",
    "Budget of 10000 evaluations.\n",
    "* Population: 100\n",
    "* Generations: 100\n",
    "* Neighbourhood: 60"
   ]
  },
  {
   "cell_type": "code",
   "execution_count": 160,
   "metadata": {},
   "outputs": [],
   "source": [
    "moec_6 = a1.MOEC(100,100,30,0.5,0.5,20,\"DE\",\"zdt3_p100_g100.out\")"
   ]
  },
  {
   "cell_type": "code",
   "execution_count": 161,
   "metadata": {},
   "outputs": [
    {
     "name": "stdout",
     "output_type": "stream",
     "text": [
      "Finished\n"
     ]
    }
   ],
   "source": [
    "frente_6 = moec_6.run()"
   ]
  },
  {
   "cell_type": "markdown",
   "metadata": {},
   "source": [
    "Diversity preservation (number of unique individuals from a population of 50)"
   ]
  },
  {
   "cell_type": "code",
   "execution_count": 162,
   "metadata": {},
   "outputs": [
    {
     "data": {
      "text/plain": [
       "47"
      ]
     },
     "execution_count": 162,
     "metadata": {},
     "output_type": "execute_result"
    }
   ],
   "source": [
    "len(np.unique(frente_6, axis=0))"
   ]
  },
  {
   "cell_type": "code",
   "execution_count": 163,
   "metadata": {},
   "outputs": [],
   "source": [
    "nsga_x,nsga_y = p.read_plotout(\"NSGAII_outs/ZDT3/plot_zdt3_p100_g100.out\")"
   ]
  },
  {
   "cell_type": "code",
   "execution_count": 164,
   "metadata": {},
   "outputs": [],
   "source": [
    "res_11 = np.array([zdt.func(c)[0] for c in frente_6])\n",
    "res_12 = np.array([zdt.func(c)[1] for c in frente_6])"
   ]
  },
  {
   "cell_type": "code",
   "execution_count": 236,
   "metadata": {},
   "outputs": [
    {
     "data": {
      "image/png": "[encoded data removed]",
      "text/plain": [
       "<Figure size 432x288 with 1 Axes>"
      ]
     },
     "metadata": {},
     "output_type": "display_data"
    }
   ],
   "source": [
    "plt.plot(res_11,res_12,'bo',label=\"MOEC\")\n",
    "plt.plot(nsga_x,nsga_y,'ro',label=\"NSGAII\")\n",
    "plt.xlabel(\"Objective 1\")\n",
    "plt.ylabel(\"Objective 2\")\n",
    "plt.legend(bbox_to_anchor=(1.05, 1), loc=2, borderaxespad=0.)\n",
    "plt.show()"
   ]
  },
  {
   "cell_type": "markdown",
   "metadata": {},
   "source": [
    "### Base implementation vs NSGAII\n",
    "Budget of 9960 evaluations.\n",
    "* Population: 60\n",
    "* Generations: 166\n",
    "* Neighbourhood: 30"
   ]
  },
  {
   "cell_type": "code",
   "execution_count": 229,
   "metadata": {},
   "outputs": [],
   "source": [
    "moec_7 = a1.MOEC(60,166,55,0.5,0.7,20,\"AHX\",\"zdt3_p60_g166.out\")"
   ]
  },
  {
   "cell_type": "code",
   "execution_count": 230,
   "metadata": {},
   "outputs": [
    {
     "name": "stdout",
     "output_type": "stream",
     "text": [
      "Finished\n"
     ]
    }
   ],
   "source": [
    "frente_7 = moec_7.run()"
   ]
  },
  {
   "cell_type": "markdown",
   "metadata": {},
   "source": [
    "Diversity preservation (number of unique individuals from a population of 50)"
   ]
  },
  {
   "cell_type": "code",
   "execution_count": 231,
   "metadata": {},
   "outputs": [
    {
     "data": {
      "text/plain": [
       "48"
      ]
     },
     "execution_count": 231,
     "metadata": {},
     "output_type": "execute_result"
    }
   ],
   "source": [
    "len(np.unique(frente_7, axis=0))"
   ]
  },
  {
   "cell_type": "code",
   "execution_count": 232,
   "metadata": {},
   "outputs": [],
   "source": [
    "nsga_x,nsga_y = p.read_plotout(\"NSGAII_outs/ZDT3/plot_zdt3_p60_g166.out\")"
   ]
  },
  {
   "cell_type": "code",
   "execution_count": 364,
   "metadata": {},
   "outputs": [],
   "source": [
    "res_13 = np.array([zdt.func(c)[0] for c in frente_7])\n",
    "res_14 = np.array([zdt.func(c)[1] for c in frente_7])"
   ]
  },
  {
   "cell_type": "code",
   "execution_count": 234,
   "metadata": {},
   "outputs": [
    {
     "data": {
      "image/png": "[encoded data removed]",
      "text/plain": [
       "<Figure size 432x288 with 1 Axes>"
      ]
     },
     "metadata": {},
     "output_type": "display_data"
    }
   ],
   "source": [
    "plt.plot(res_13,res_14,'bo',label=\"MOEC\")\n",
    "plt.plot(nsga_x,nsga_y,'ro',label=\"NSGAII\")\n",
    "plt.xlabel(\"Objective 1\")\n",
    "plt.ylabel(\"Objective 2\")\n",
    "plt.legend(bbox_to_anchor=(1.05, 1), loc=2, borderaxespad=0.)\n",
    "plt.show()"
   ]
  },
  {
   "cell_type": "markdown",
   "metadata": {},
   "source": [
    "### Base implementation vs NSGAII\n",
    "Budget of 9920 evaluations.\n",
    "* Population: 160\n",
    "* Generations: 62\n",
    "* Neighbourhood: 100"
   ]
  },
  {
   "cell_type": "code",
   "execution_count": 339,
   "metadata": {},
   "outputs": [],
   "source": [
    "moec_8 = a1.MOEC(160,62,100,0.5,0.5,20,\"DE\",\"zdt3_p160_g62.out\")"
   ]
  },
  {
   "cell_type": "code",
   "execution_count": 340,
   "metadata": {},
   "outputs": [
    {
     "name": "stdout",
     "output_type": "stream",
     "text": [
      "Finished\n"
     ]
    }
   ],
   "source": [
    "frente_8 = moec_8.run()"
   ]
  },
  {
   "cell_type": "markdown",
   "metadata": {},
   "source": [
    "Diversity preservation (number of unique individuals from a population of 50)"
   ]
  },
  {
   "cell_type": "code",
   "execution_count": 341,
   "metadata": {},
   "outputs": [
    {
     "data": {
      "text/plain": [
       "62"
      ]
     },
     "execution_count": 341,
     "metadata": {},
     "output_type": "execute_result"
    }
   ],
   "source": [
    "len(np.unique(frente_8, axis=0))"
   ]
  },
  {
   "cell_type": "code",
   "execution_count": 342,
   "metadata": {},
   "outputs": [],
   "source": [
    "nsga_x,nsga_y = p.read_plotout(\"NSGAII_outs/ZDT3/plot_zdt3_p160_g62.out\")"
   ]
  },
  {
   "cell_type": "code",
   "execution_count": 343,
   "metadata": {},
   "outputs": [],
   "source": [
    "res_15 = np.array([zdt.func(c)[0] for c in frente_8])\n",
    "res_16 = np.array([zdt.func(c)[1] for c in frente_8])"
   ]
  },
  {
   "cell_type": "code",
   "execution_count": 344,
   "metadata": {},
   "outputs": [
    {
     "data": {
      "image/png": "[encoded data removed]",
      "text/plain": [
       "<Figure size 432x288 with 1 Axes>"
      ]
     },
     "metadata": {},
     "output_type": "display_data"
    }
   ],
   "source": [
    "plt.plot(res_15,res_16,'bo',label=\"MOEC\")\n",
    "plt.plot(nsga_x,nsga_y,'ro',label=\"NSGAII\")\n",
    "plt.xlabel(\"Objective 1\")\n",
    "plt.ylabel(\"Objective 2\")\n",
    "plt.legend(bbox_to_anchor=(1.05, 1), loc=2, borderaxespad=0.)\n",
    "plt.show()"
   ]
  },
  {
   "cell_type": "markdown",
   "metadata": {},
   "source": [
    "### Base implementation vs NSGAII\n",
    "Budget of 9920 evaluations.\n",
    "* Population: 200\n",
    "* Generations: 50\n",
    "* Neighbourhood: 100"
   ]
  },
  {
   "cell_type": "code",
   "execution_count": 345,
   "metadata": {},
   "outputs": [],
   "source": [
    "moec_9 = a1.MOEC(200,50,100,0.5,0.5,20,\"DE\",\"zdt3_p200_g50.out\")"
   ]
  },
  {
   "cell_type": "code",
   "execution_count": 346,
   "metadata": {},
   "outputs": [
    {
     "name": "stdout",
     "output_type": "stream",
     "text": [
      "Finished\n"
     ]
    }
   ],
   "source": [
    "frente_9 = moec_9.run()"
   ]
  },
  {
   "cell_type": "markdown",
   "metadata": {},
   "source": [
    "Diversity preservation (number of unique individuals from a population of 50)"
   ]
  },
  {
   "cell_type": "code",
   "execution_count": 347,
   "metadata": {},
   "outputs": [
    {
     "data": {
      "text/plain": [
       "63"
      ]
     },
     "execution_count": 347,
     "metadata": {},
     "output_type": "execute_result"
    }
   ],
   "source": [
    "len(np.unique(frente_9, axis=0))"
   ]
  },
  {
   "cell_type": "code",
   "execution_count": 348,
   "metadata": {},
   "outputs": [],
   "source": [
    "nsga_x,nsga_y = p.read_plotout(\"NSGAII_outs/ZDT3/plot_zdt3_p200_g50.out\")"
   ]
  },
  {
   "cell_type": "code",
   "execution_count": 349,
   "metadata": {},
   "outputs": [],
   "source": [
    "res_17 = np.array([zdt.func(c)[0] for c in frente_9])\n",
    "res_18 = np.array([zdt.func(c)[1] for c in frente_9])"
   ]
  },
  {
   "cell_type": "code",
   "execution_count": 350,
   "metadata": {},
   "outputs": [
    {
     "data": {
      "image/png": "[encoded data removed]",
      "text/plain": [
       "<Figure size 432x288 with 1 Axes>"
      ]
     },
     "metadata": {},
     "output_type": "display_data"
    }
   ],
   "source": [
    "plt.plot(res_17,res_18,'bo',label=\"MOEC\")\n",
    "plt.plot(nsga_x,nsga_y,'ro',label=\"NSGAII\")\n",
    "plt.xlabel(\"Objective 1\")\n",
    "plt.ylabel(\"Objective 2\")\n",
    "plt.legend(bbox_to_anchor=(1.05, 1), loc=2, borderaxespad=0.)\n",
    "plt.show()"
   ]
  },
  {
   "cell_type": "markdown",
   "metadata": {},
   "source": [
    "### Base implementation vs NSGAII\n",
    "Budget of 9920 evaluations.\n",
    "* Population: 400\n",
    "* Generations: 25\n",
    "* Neighbourhood: 100"
   ]
  },
  {
   "cell_type": "code",
   "execution_count": 351,
   "metadata": {},
   "outputs": [],
   "source": [
    "moec_10 = a1.MOEC(400,25,150,0.5,0.5,20,\"DE\",\"zdt3_p400_g25.out\")"
   ]
  },
  {
   "cell_type": "code",
   "execution_count": 352,
   "metadata": {},
   "outputs": [
    {
     "name": "stdout",
     "output_type": "stream",
     "text": [
      "Finished\n"
     ]
    }
   ],
   "source": [
    "frente_10 = moec_10.run()"
   ]
  },
  {
   "cell_type": "markdown",
   "metadata": {},
   "source": [
    "Diversity preservation (number of unique individuals from a population of 50)"
   ]
  },
  {
   "cell_type": "code",
   "execution_count": 353,
   "metadata": {},
   "outputs": [
    {
     "data": {
      "text/plain": [
       "70"
      ]
     },
     "execution_count": 353,
     "metadata": {},
     "output_type": "execute_result"
    }
   ],
   "source": [
    "len(np.unique(frente_10, axis=0))"
   ]
  },
  {
   "cell_type": "code",
   "execution_count": 354,
   "metadata": {},
   "outputs": [],
   "source": [
    "nsga_x,nsga_y = p.read_plotout(\"NSGAII_outs/ZDT3/plot_zdt3_p400_g25.out\")"
   ]
  },
  {
   "cell_type": "code",
   "execution_count": 355,
   "metadata": {},
   "outputs": [],
   "source": [
    "res_19 = np.array([zdt.func(c)[0] for c in frente_10])\n",
    "res_20 = np.array([zdt.func(c)[1] for c in frente_10])"
   ]
  },
  {
   "cell_type": "code",
   "execution_count": 356,
   "metadata": {},
   "outputs": [
    {
     "data": {
      "image/png": "[encoded data removed]",
      "text/plain": [
       "<Figure size 432x288 with 1 Axes>"
      ]
     },
     "metadata": {},
     "output_type": "display_data"
    }
   ],
   "source": [
    "plt.plot(res_19,res_20,'bo',label=\"MOEC\")\n",
    "plt.plot(nsga_x,nsga_y,'ro',label=\"NSGAII\")\n",
    "plt.xlabel(\"Objective 1\")\n",
    "plt.ylabel(\"Objective 2\")\n",
    "plt.legend(bbox_to_anchor=(1.05, 1), loc=2, borderaxespad=0.)\n",
    "plt.show()"
   ]
  },
  {
   "cell_type": "markdown",
   "metadata": {},
   "source": [
    "## CF6 Problem with constraints"
   ]
  },
  {
   "cell_type": "markdown",
   "metadata": {},
   "source": [
    "### CF6 with separation for constraint handling\n",
    "* Population 40\n",
    "* Generations 100\n",
    "* Constraint weights: 100,100"
   ]
  },
  {
   "cell_type": "code",
   "execution_count": 453,
   "metadata": {},
   "outputs": [],
   "source": [
    "cf6_1 = a1.MOEC(40,100,10,0.5,0.5,20,\"DE\",\"cf6_p40_g100.out\",const_mode=\"separation\",problem=cf6_4d.CF6(),weights=[100,100])"
   ]
  },
  {
   "cell_type": "code",
   "execution_count": 454,
   "metadata": {},
   "outputs": [
    {
     "name": "stdout",
     "output_type": "stream",
     "text": [
      "Finished\n"
     ]
    }
   ],
   "source": [
    "fc_1 = cf6_1.run()"
   ]
  },
  {
   "cell_type": "markdown",
   "metadata": {},
   "source": [
    "Diversity preservation (number of unique individuals from a population of 50)"
   ]
  },
  {
   "cell_type": "code",
   "execution_count": 455,
   "metadata": {},
   "outputs": [
    {
     "data": {
      "text/plain": [
       "38"
      ]
     },
     "execution_count": 455,
     "metadata": {},
     "output_type": "execute_result"
    }
   ],
   "source": [
    "len(np.unique(fc_1, axis=0))"
   ]
  },
  {
   "cell_type": "code",
   "execution_count": 456,
   "metadata": {},
   "outputs": [],
   "source": [
    "rc_1 = np.array([cf6.func(c)[0] for c in fc_1])\n",
    "rc_2 = np.array([cf6.func(c)[1] for c in fc_1])"
   ]
  },
  {
   "cell_type": "code",
   "execution_count": 457,
   "metadata": {},
   "outputs": [],
   "source": [
    "nsga_x,nsga_y = p.read_plotout(\"NSGAII_outs/CF6/plot_cf6_p40_g100.out\")"
   ]
  },
  {
   "cell_type": "code",
   "execution_count": 458,
   "metadata": {},
   "outputs": [
    {
     "data": {
      "image/png": "[encoded data removed]",
      "text/plain": [
       "<Figure size 432x288 with 1 Axes>"
      ]
     },
     "metadata": {},
     "output_type": "display_data"
    }
   ],
   "source": [
    "plt.plot(rc_1,rc_2,'bo',label=\"MOEC\")\n",
    "plt.plot(nsga_x,nsga_y,'ro',label=\"NSGAII\")\n",
    "plt.xlabel(\"Objective 1\")\n",
    "plt.ylabel(\"Objective 2\")\n",
    "plt.legend(bbox_to_anchor=(1.05, 1), loc=2, borderaxespad=0.)\n",
    "plt.show()"
   ]
  },
  {
   "cell_type": "markdown",
   "metadata": {},
   "source": [
    "Intento de implementar separación de objetivos fallida. Mi idea es una función que devuelve la suma de las violaciones de restricciones si esta es mayor que cero o la función de tchebycheff si no lo es, de manera que se puedan comparar estas funciones aplicadas por separado a cada solución candidata. El problema es que es posible que una solución tenga menor violacion de restricciones que la otra función de tchebycheff, con lo que la primera es elegida aunque en la heurística de separación de objetivos debiera salir la segunda."
   ]
  },
  {
   "cell_type": "code",
   "execution_count": 459,
   "metadata": {},
   "outputs": [],
   "source": [
    "con_1 = np.array([cf6.const(c)[0] for c in fc_1])\n",
    "con_2 = np.array([cf6.const(c)[1] for c in fc_1])"
   ]
  },
  {
   "cell_type": "code",
   "execution_count": 460,
   "metadata": {},
   "outputs": [
    {
     "data": {
      "image/png": "[encoded data removed]",
      "text/plain": [
       "<Figure size 432x288 with 1 Axes>"
      ]
     },
     "metadata": {},
     "output_type": "display_data"
    }
   ],
   "source": [
    "plt.plot(con_1,con_2,'ro')\n",
    "plt.show()"
   ]
  },
  {
   "cell_type": "markdown",
   "metadata": {},
   "source": [
    "### CF6 with penalty for constraint handling\n",
    "* Population 60\n",
    "* Generations 66\n",
    "* Constraint weights: 100,100"
   ]
  },
  {
   "cell_type": "code",
   "execution_count": 485,
   "metadata": {},
   "outputs": [],
   "source": [
    "cf6_2 = a1.MOEC(60,66,20,0.5,0.5,20,\"DE\",\"cf6_p60_g66.out\",const_mode=\"penalty\",problem=cf6_4d.CF6(),weights=[1,1])"
   ]
  },
  {
   "cell_type": "code",
   "execution_count": 486,
   "metadata": {},
   "outputs": [
    {
     "name": "stdout",
     "output_type": "stream",
     "text": [
      "Finished\n"
     ]
    }
   ],
   "source": [
    "fc_2 = cf6_2.run()"
   ]
  },
  {
   "cell_type": "markdown",
   "metadata": {},
   "source": [
    "Diversity preservation (number of unique individuals from a population of 50)"
   ]
  },
  {
   "cell_type": "code",
   "execution_count": 487,
   "metadata": {},
   "outputs": [
    {
     "data": {
      "text/plain": [
       "54"
      ]
     },
     "execution_count": 487,
     "metadata": {},
     "output_type": "execute_result"
    }
   ],
   "source": [
    "len(np.unique(fc_2, axis=0))"
   ]
  },
  {
   "cell_type": "code",
   "execution_count": 488,
   "metadata": {},
   "outputs": [],
   "source": [
    "rc_3 = np.array([cf6.func(c)[0] for c in fc_2])\n",
    "rc_4 = np.array([cf6.func(c)[1] for c in fc_2])"
   ]
  },
  {
   "cell_type": "code",
   "execution_count": 489,
   "metadata": {},
   "outputs": [],
   "source": [
    "nsga_x,nsga_y = p.read_plotout(\"NSGAII_outs/CF6/plot_cf6_p60_g66.out\")"
   ]
  },
  {
   "cell_type": "code",
   "execution_count": 490,
   "metadata": {},
   "outputs": [
    {
     "data": {
      "image/png": "[encoded data removed]",
      "text/plain": [
       "<Figure size 432x288 with 1 Axes>"
      ]
     },
     "metadata": {},
     "output_type": "display_data"
    }
   ],
   "source": [
    "plt.plot(rc_3,rc_4,'bo',label=\"MOEC\")\n",
    "plt.plot(nsga_x,nsga_y,'ro',label=\"NSGAII\")\n",
    "plt.xlabel(\"Objective 1\")\n",
    "plt.ylabel(\"Objective 2\")\n",
    "plt.legend(bbox_to_anchor=(1.05, 1), loc=2, borderaxespad=0.)\n",
    "plt.show()"
   ]
  },
  {
   "cell_type": "code",
   "execution_count": 493,
   "metadata": {},
   "outputs": [],
   "source": [
    "con_3 = np.array([cf6.const(c)[0] for c in fc_2])\n",
    "con_4 = np.array([cf6.const(c)[1] for c in fc_2])"
   ]
  },
  {
   "cell_type": "code",
   "execution_count": 494,
   "metadata": {},
   "outputs": [
    {
     "data": {
      "image/png": "[encoded data removed]",
      "text/plain": [
       "<Figure size 432x288 with 1 Axes>"
      ]
     },
     "metadata": {},
     "output_type": "display_data"
    }
   ],
   "source": [
    "plt.plot(con_3,con_4,'ro')\n",
    "plt.xlabel(\"Constraint 1\")\n",
    "plt.ylabel(\"Constraint 2\")\n",
    "plt.show()"
   ]
  },
  {
   "cell_type": "markdown",
   "metadata": {},
   "source": [
    "### CF6 with penalty for constraint handling\n",
    "* Population 80\n",
    "* Generations 50\n",
    "* Constraint weights: 100,100"
   ]
  },
  {
   "cell_type": "code",
   "execution_count": 567,
   "metadata": {},
   "outputs": [],
   "source": [
    "cf6_3 = a1.MOEC(80,50,50,0.5,0.5,20,\"DE\",\"cf6_p80_g50.out\",const_mode=\"penalty\",problem=cf6_4d.CF6(),weights=[1,1])"
   ]
  },
  {
   "cell_type": "code",
   "execution_count": 568,
   "metadata": {},
   "outputs": [
    {
     "name": "stdout",
     "output_type": "stream",
     "text": [
      "Finished\n"
     ]
    }
   ],
   "source": [
    "fc_3 = cf6_3.run()"
   ]
  },
  {
   "cell_type": "markdown",
   "metadata": {},
   "source": [
    "Diversity preservation (number of unique individuals from a population of 50)"
   ]
  },
  {
   "cell_type": "code",
   "execution_count": 569,
   "metadata": {},
   "outputs": [
    {
     "data": {
      "text/plain": [
       "69"
      ]
     },
     "execution_count": 569,
     "metadata": {},
     "output_type": "execute_result"
    }
   ],
   "source": [
    "len(np.unique(fc_3, axis=0))"
   ]
  },
  {
   "cell_type": "code",
   "execution_count": 570,
   "metadata": {},
   "outputs": [],
   "source": [
    "rc_5 = np.array([cf6.func(c)[0] for c in fc_3])\n",
    "rc_6 = np.array([cf6.func(c)[1] for c in fc_3])"
   ]
  },
  {
   "cell_type": "code",
   "execution_count": 571,
   "metadata": {},
   "outputs": [],
   "source": [
    "nsga_x,nsga_y = p.read_plotout(\"NSGAII_outs/CF6/plot_cf6_p80_g50.out\")"
   ]
  },
  {
   "cell_type": "code",
   "execution_count": 572,
   "metadata": {},
   "outputs": [
    {
     "data": {
      "image/png": "[encoded data removed]",
      "text/plain": [
       "<Figure size 432x288 with 1 Axes>"
      ]
     },
     "metadata": {},
     "output_type": "display_data"
    }
   ],
   "source": [
    "plt.plot(rc_5,rc_6,'bo',label=\"MOEC\")\n",
    "plt.plot(nsga_x,nsga_y,'ro',label=\"NSGAII\")\n",
    "plt.xlabel(\"Objective 1\")\n",
    "plt.ylabel(\"Objective 2\")\n",
    "plt.legend(bbox_to_anchor=(1.05, 1), loc=2, borderaxespad=0.)\n",
    "plt.show()"
   ]
  },
  {
   "cell_type": "code",
   "execution_count": 573,
   "metadata": {},
   "outputs": [],
   "source": [
    "con_5 = np.array([cf6.const(c)[0] for c in fc_3])\n",
    "con_6 = np.array([cf6.const(c)[1] for c in fc_3])"
   ]
  },
  {
   "cell_type": "code",
   "execution_count": 574,
   "metadata": {},
   "outputs": [
    {
     "data": {
      "image/png": "[encoded data removed]",
      "text/plain": [
       "<Figure size 432x288 with 1 Axes>"
      ]
     },
     "metadata": {},
     "output_type": "display_data"
    }
   ],
   "source": [
    "plt.plot(con_3,con_4,'ro')\n",
    "plt.xlabel(\"Constraint 1\")\n",
    "plt.ylabel(\"Constraint 2\")\n",
    "plt.show()"
   ]
  },
  {
   "cell_type": "markdown",
   "metadata": {},
   "source": [
    "### CF6 with penalty for constraint handling\n",
    "* Population 100\n",
    "* Generations 40\n",
    "* Neighbourhood 60\n",
    "* Constraint weights: 100,100"
   ]
  },
  {
   "cell_type": "code",
   "execution_count": 575,
   "metadata": {},
   "outputs": [],
   "source": [
    "cf6_4 = a1.MOEC(100,40,60,0.5,0.5,20,\"DE\",\"cf6_p100_g40.out\",const_mode=\"penalty\",problem=cf6_4d.CF6(),weights=[1,1])"
   ]
  },
  {
   "cell_type": "code",
   "execution_count": 576,
   "metadata": {},
   "outputs": [
    {
     "name": "stdout",
     "output_type": "stream",
     "text": [
      "Finished\n"
     ]
    }
   ],
   "source": [
    "fc_4 = cf6_4.run()"
   ]
  },
  {
   "cell_type": "markdown",
   "metadata": {},
   "source": [
    "Diversity preservation (number of unique individuals from a population of 50)"
   ]
  },
  {
   "cell_type": "code",
   "execution_count": 577,
   "metadata": {},
   "outputs": [
    {
     "data": {
      "text/plain": [
       "66"
      ]
     },
     "execution_count": 577,
     "metadata": {},
     "output_type": "execute_result"
    }
   ],
   "source": [
    "len(np.unique(fc_4, axis=0))"
   ]
  },
  {
   "cell_type": "code",
   "execution_count": 578,
   "metadata": {},
   "outputs": [],
   "source": [
    "rc_7 = np.array([cf6.func(c)[0] for c in fc_4])\n",
    "rc_8 = np.array([cf6.func(c)[1] for c in fc_4])"
   ]
  },
  {
   "cell_type": "code",
   "execution_count": 579,
   "metadata": {},
   "outputs": [],
   "source": [
    "nsga_x,nsga_y = p.read_plotout(\"NSGAII_outs/CF6/plot_cf6_p100_g40.out\")"
   ]
  },
  {
   "cell_type": "code",
   "execution_count": 580,
   "metadata": {},
   "outputs": [
    {
     "data": {
      "image/png": "[encoded data removed]",
      "text/plain": [
       "<Figure size 432x288 with 1 Axes>"
      ]
     },
     "metadata": {},
     "output_type": "display_data"
    }
   ],
   "source": [
    "plt.plot(rc_7,rc_8,'bo',label=\"MOEC\")\n",
    "plt.plot(nsga_x,nsga_y,'ro',label=\"NSGAII\")\n",
    "plt.xlabel(\"Objective 1\")\n",
    "plt.ylabel(\"Objective 2\")\n",
    "plt.legend(bbox_to_anchor=(1.05, 1), loc=2, borderaxespad=0.)\n",
    "plt.show()"
   ]
  },
  {
   "cell_type": "markdown",
   "metadata": {},
   "source": [
    "### CF6 with penalty for constraint handling\n",
    "* Population 160\n",
    "* Generations 25\n",
    "* Neighbourhood 100\n",
    "* Constraint weights: 100,100"
   ]
  },
  {
   "cell_type": "code",
   "execution_count": 589,
   "metadata": {},
   "outputs": [],
   "source": [
    "cf6_5 = a1.MOEC(160,25,100,0.5,0.5,20,\"DE\",\"cf6_p160_g25.out\",const_mode=\"penalty\",problem=cf6_4d.CF6(),weights=[1,1])"
   ]
  },
  {
   "cell_type": "code",
   "execution_count": 590,
   "metadata": {},
   "outputs": [
    {
     "name": "stdout",
     "output_type": "stream",
     "text": [
      "Finished\n"
     ]
    }
   ],
   "source": [
    "fc_5 = cf6_5.run()"
   ]
  },
  {
   "cell_type": "markdown",
   "metadata": {},
   "source": [
    "Diversity preservation (number of unique individuals from a population of 50)"
   ]
  },
  {
   "cell_type": "code",
   "execution_count": 591,
   "metadata": {},
   "outputs": [
    {
     "data": {
      "text/plain": [
       "106"
      ]
     },
     "execution_count": 591,
     "metadata": {},
     "output_type": "execute_result"
    }
   ],
   "source": [
    "len(np.unique(fc_5, axis=0))"
   ]
  },
  {
   "cell_type": "code",
   "execution_count": 592,
   "metadata": {},
   "outputs": [],
   "source": [
    "rc_9 = np.array([cf6.func(c)[0] for c in fc_5])\n",
    "rc_10 = np.array([cf6.func(c)[1] for c in fc_5])"
   ]
  },
  {
   "cell_type": "code",
   "execution_count": 593,
   "metadata": {},
   "outputs": [],
   "source": [
    "nsga_x,nsga_y = p.read_plotout(\"NSGAII_outs/CF6/plot_cf6_p160_g25.out\")"
   ]
  },
  {
   "cell_type": "code",
   "execution_count": 594,
   "metadata": {},
   "outputs": [
    {
     "data": {
      "image/png": "[encoded data removed]",
      "text/plain": [
       "<Figure size 432x288 with 1 Axes>"
      ]
     },
     "metadata": {},
     "output_type": "display_data"
    }
   ],
   "source": [
    "plt.plot(rc_9,rc_10,'bo',label=\"MOEC\")\n",
    "plt.plot(nsga_x,nsga_y,'ro',label=\"NSGAII\")\n",
    "plt.xlabel(\"Objective 1\")\n",
    "plt.ylabel(\"Objective 2\")\n",
    "plt.legend(bbox_to_anchor=(1.05, 1), loc=2, borderaxespad=0.)\n",
    "plt.show()"
   ]
  },
  {
   "cell_type": "code",
   "execution_count": 595,
   "metadata": {},
   "outputs": [],
   "source": [
    "con_7 = np.array([cf6.const(c)[0] for c in fc_5])\n",
    "con_8 = np.array([cf6.const(c)[1] for c in fc_5])"
   ]
  },
  {
   "cell_type": "code",
   "execution_count": 596,
   "metadata": {},
   "outputs": [
    {
     "data": {
      "image/png": "[encoded data removed]",
      "text/plain": [
       "<Figure size 432x288 with 1 Axes>"
      ]
     },
     "metadata": {},
     "output_type": "display_data"
    }
   ],
   "source": [
    "plt.plot(con_3,con_4,'ro')\n",
    "plt.xlabel(\"Constraint 1\")\n",
    "plt.ylabel(\"Constraint 2\")\n",
    "plt.show()"
   ]
  },
  {
   "cell_type": "markdown",
   "metadata": {},
   "source": [
    "### CF6 with penalty for constraint handling\n",
    "* Population 100\n",
    "* Generations 100\n",
    "* Neighbourhood 60\n",
    "* Constraint weights: 100,100"
   ]
  },
  {
   "cell_type": "code",
   "execution_count": 603,
   "metadata": {},
   "outputs": [],
   "source": [
    "cf6_6 = a1.MOEC(100,100,60,0.5,0.5,20,\"DE\",\"cf6_p100_g100.out\",const_mode=\"penalty\",problem=cf6_4d.CF6(),weights=[100,100])"
   ]
  },
  {
   "cell_type": "code",
   "execution_count": 604,
   "metadata": {},
   "outputs": [
    {
     "name": "stdout",
     "output_type": "stream",
     "text": [
      "Finished\n"
     ]
    }
   ],
   "source": [
    "fc_6 = cf6_6.run()"
   ]
  },
  {
   "cell_type": "markdown",
   "metadata": {},
   "source": [
    "Diversity preservation (number of unique individuals from a population of 50)"
   ]
  },
  {
   "cell_type": "code",
   "execution_count": 605,
   "metadata": {},
   "outputs": [
    {
     "data": {
      "text/plain": [
       "88"
      ]
     },
     "execution_count": 605,
     "metadata": {},
     "output_type": "execute_result"
    }
   ],
   "source": [
    "len(np.unique(fc_6, axis=0))"
   ]
  },
  {
   "cell_type": "code",
   "execution_count": 606,
   "metadata": {},
   "outputs": [],
   "source": [
    "rc_11 = np.array([cf6.func(c)[0] for c in fc_6])\n",
    "rc_12 = np.array([cf6.func(c)[1] for c in fc_6])"
   ]
  },
  {
   "cell_type": "code",
   "execution_count": 607,
   "metadata": {},
   "outputs": [],
   "source": [
    "nsga_x,nsga_y = p.read_plotout(\"NSGAII_outs/CF6/plot_cf6_p100_g100.out\")"
   ]
  },
  {
   "cell_type": "code",
   "execution_count": 609,
   "metadata": {},
   "outputs": [
    {
     "data": {
      "image/png": "[encoded data removed]",
      "text/plain": [
       "<Figure size 432x288 with 1 Axes>"
      ]
     },
     "metadata": {},
     "output_type": "display_data"
    }
   ],
   "source": [
    "plt.plot(rc_11,rc_12,'bo',label=\"MOEC\")\n",
    "plt.plot(nsga_x,nsga_y,'ro',label=\"NSGAII\")\n",
    "plt.xlabel(\"Objective 1\")\n",
    "plt.ylabel(\"Objective 2\")\n",
    "plt.legend(bbox_to_anchor=(1.05, 1), loc=2, borderaxespad=0.)\n",
    "plt.show()"
   ]
  },
  {
   "cell_type": "markdown",
   "metadata": {},
   "source": [
    "### CF6 with penalty for constraint handling\n",
    "* Population 60\n",
    "* Generations 166\n",
    "* Neighbourhood 100\n",
    "* Constraint weights: 100,100"
   ]
  },
  {
   "cell_type": "code",
   "execution_count": 610,
   "metadata": {},
   "outputs": [],
   "source": [
    "cf6_7 = a1.MOEC(60,166,40,0.5,0.5,20,\"DE\",\"cf6_p60_g166.out\",const_mode=\"penalty\",problem=cf6_4d.CF6(),weights=[100,100])"
   ]
  },
  {
   "cell_type": "code",
   "execution_count": 611,
   "metadata": {},
   "outputs": [
    {
     "name": "stdout",
     "output_type": "stream",
     "text": [
      "Finished\n"
     ]
    }
   ],
   "source": [
    "fc_7 = cf6_7.run()"
   ]
  },
  {
   "cell_type": "markdown",
   "metadata": {},
   "source": [
    "Diversity preservation (number of unique individuals from a population of 50)"
   ]
  },
  {
   "cell_type": "code",
   "execution_count": 612,
   "metadata": {},
   "outputs": [
    {
     "data": {
      "text/plain": [
       "56"
      ]
     },
     "execution_count": 612,
     "metadata": {},
     "output_type": "execute_result"
    }
   ],
   "source": [
    "len(np.unique(fc_7, axis=0))"
   ]
  },
  {
   "cell_type": "code",
   "execution_count": 613,
   "metadata": {},
   "outputs": [],
   "source": [
    "rc_13 = np.array([cf6.func(c)[0] for c in fc_7])\n",
    "rc_14 = np.array([cf6.func(c)[1] for c in fc_7])"
   ]
  },
  {
   "cell_type": "code",
   "execution_count": 614,
   "metadata": {},
   "outputs": [],
   "source": [
    "nsga_x,nsga_y = p.read_plotout(\"NSGAII_outs/CF6/plot_cf6_p60_g166.out\")"
   ]
  },
  {
   "cell_type": "code",
   "execution_count": 616,
   "metadata": {},
   "outputs": [
    {
     "data": {
      "image/png": "[encoded data removed]",
      "text/plain": [
       "<Figure size 432x288 with 1 Axes>"
      ]
     },
     "metadata": {},
     "output_type": "display_data"
    }
   ],
   "source": [
    "plt.plot(rc_13,rc_14,'bo',label=\"MOEC\")\n",
    "plt.plot(nsga_x,nsga_y,'ro',label=\"NSGAII\")\n",
    "plt.xlabel(\"Objective 1\")\n",
    "plt.ylabel(\"Objective 2\")\n",
    "plt.legend(bbox_to_anchor=(1.05, 1), loc=2, borderaxespad=0.)\n",
    "plt.show()"
   ]
  },
  {
   "cell_type": "markdown",
   "metadata": {},
   "source": [
    "### CF6 with penalty for constraint handling\n",
    "* Population 160\n",
    "* Generations 62\n",
    "* Neighbourhood 100\n",
    "* Constraint weights: 100,100"
   ]
  },
  {
   "cell_type": "code",
   "execution_count": 617,
   "metadata": {},
   "outputs": [],
   "source": [
    "cf6_8 = a1.MOEC(160,62,100,0.5,0.5,20,\"DE\",\"cf6_p160_g62.out\",const_mode=\"penalty\",problem=cf6_4d.CF6(),weights=[100,100])"
   ]
  },
  {
   "cell_type": "code",
   "execution_count": 618,
   "metadata": {},
   "outputs": [
    {
     "name": "stdout",
     "output_type": "stream",
     "text": [
      "Finished\n"
     ]
    }
   ],
   "source": [
    "fc_8 = cf6_8.run()"
   ]
  },
  {
   "cell_type": "markdown",
   "metadata": {},
   "source": [
    "Diversity preservation (number of unique individuals from a population of 50)"
   ]
  },
  {
   "cell_type": "code",
   "execution_count": 619,
   "metadata": {},
   "outputs": [
    {
     "data": {
      "text/plain": [
       "123"
      ]
     },
     "execution_count": 619,
     "metadata": {},
     "output_type": "execute_result"
    }
   ],
   "source": [
    "len(np.unique(fc_8, axis=0))"
   ]
  },
  {
   "cell_type": "code",
   "execution_count": 620,
   "metadata": {},
   "outputs": [],
   "source": [
    "rc_15 = np.array([cf6.func(c)[0] for c in fc_8])\n",
    "rc_16 = np.array([cf6.func(c)[1] for c in fc_8])"
   ]
  },
  {
   "cell_type": "code",
   "execution_count": 621,
   "metadata": {},
   "outputs": [],
   "source": [
    "nsga_x,nsga_y = p.read_plotout(\"NSGAII_outs/CF6/plot_cf6_p160_g62.out\")"
   ]
  },
  {
   "cell_type": "code",
   "execution_count": 622,
   "metadata": {},
   "outputs": [
    {
     "data": {
      "image/png": "[encoded data removed]",
      "text/plain": [
       "<Figure size 432x288 with 1 Axes>"
      ]
     },
     "metadata": {},
     "output_type": "display_data"
    }
   ],
   "source": [
    "plt.plot(rc_15,rc_16,'bo',label=\"MOEC\")\n",
    "plt.plot(nsga_x,nsga_y,'ro',label=\"NSGAII\")\n",
    "plt.xlabel(\"Objective 1\")\n",
    "plt.ylabel(\"Objective 2\")\n",
    "plt.legend(bbox_to_anchor=(1.05, 1), loc=2, borderaxespad=0.)\n",
    "plt.show()"
   ]
  },
  {
   "cell_type": "markdown",
   "metadata": {},
   "source": [
    "### CF6 with penalty for constraint handling\n",
    "* Population 200\n",
    "* Generations 50\n",
    "* Neighbourhood 100\n",
    "* Constraint weights: 100,100"
   ]
  },
  {
   "cell_type": "code",
   "execution_count": 623,
   "metadata": {},
   "outputs": [],
   "source": [
    "cf6_9 = a1.MOEC(200,50,100,0.5,0.5,20,\"DE\",\"cf6_p200_g50.out\",const_mode=\"penalty\",problem=cf6_4d.CF6(),weights=[100,100])"
   ]
  },
  {
   "cell_type": "code",
   "execution_count": 624,
   "metadata": {},
   "outputs": [
    {
     "name": "stdout",
     "output_type": "stream",
     "text": [
      "Finished\n"
     ]
    }
   ],
   "source": [
    "fc_9 = cf6_9.run()"
   ]
  },
  {
   "cell_type": "code",
   "execution_count": 625,
   "metadata": {},
   "outputs": [
    {
     "data": {
      "text/plain": [
       "149"
      ]
     },
     "execution_count": 625,
     "metadata": {},
     "output_type": "execute_result"
    }
   ],
   "source": [
    "len(np.unique(fc_9, axis=0))"
   ]
  },
  {
   "cell_type": "code",
   "execution_count": 626,
   "metadata": {},
   "outputs": [],
   "source": [
    "rc_17 = np.array([cf6.func(c)[0] for c in fc_9])\n",
    "rc_18 = np.array([cf6.func(c)[1] for c in fc_9])"
   ]
  },
  {
   "cell_type": "code",
   "execution_count": 627,
   "metadata": {},
   "outputs": [],
   "source": [
    "nsga_x,nsga_y = p.read_plotout(\"NSGAII_outs/CF6/plot_cf6_p200_g50.out\")"
   ]
  },
  {
   "cell_type": "code",
   "execution_count": 629,
   "metadata": {},
   "outputs": [
    {
     "data": {
      "image/png": "[encoded data removed]",
      "text/plain": [
       "<Figure size 432x288 with 1 Axes>"
      ]
     },
     "metadata": {},
     "output_type": "display_data"
    }
   ],
   "source": [
    "plt.plot(rc_17,rc_18,'bo',label=\"MOEC\")\n",
    "plt.plot(nsga_x,nsga_y,'ro',label=\"NSGAII\")\n",
    "plt.xlabel(\"Objective 1\")\n",
    "plt.ylabel(\"Objective 2\")\n",
    "plt.legend(bbox_to_anchor=(1.05, 1), loc=2, borderaxespad=0.)\n",
    "plt.show()"
   ]
  },
  {
   "cell_type": "code",
   "execution_count": 630,
   "metadata": {},
   "outputs": [],
   "source": [
    "con_9 = np.array([cf6.const(c)[0] for c in fc_9])\n",
    "con_10 = np.array([cf6.const(c)[1] for c in fc_9])"
   ]
  },
  {
   "cell_type": "code",
   "execution_count": 631,
   "metadata": {},
   "outputs": [
    {
     "data": {
      "image/png": "[encoded data removed]",
      "text/plain": [
       "<Figure size 432x288 with 1 Axes>"
      ]
     },
     "metadata": {},
     "output_type": "display_data"
    }
   ],
   "source": [
    "plt.plot(con_9,con_10,'ro')\n",
    "plt.xlabel(\"Constraint 1\")\n",
    "plt.ylabel(\"Constraint 2\")\n",
    "plt.show()"
   ]
  },
  {
   "cell_type": "markdown",
   "metadata": {},
   "source": [
    "### CF6 with penalty for constraint handling\n",
    "* Population 400\n",
    "* Generations 25\n",
    "* Neighbourhood 150\n",
    "* Constraint weights: 100,100"
   ]
  },
  {
   "cell_type": "code",
   "execution_count": 632,
   "metadata": {},
   "outputs": [],
   "source": [
    "cf6_0 = a1.MOEC(400,25,150,0.5,0.5,20,\"DE\",\"cf6_p400_g25.out\",const_mode=\"penalty\",problem=cf6_4d.CF6(),weights=[100,100])"
   ]
  },
  {
   "cell_type": "code",
   "execution_count": 633,
   "metadata": {},
   "outputs": [
    {
     "name": "stdout",
     "output_type": "stream",
     "text": [
      "Finished\n"
     ]
    }
   ],
   "source": [
    "fc_0 = cf6_0.run()"
   ]
  },
  {
   "cell_type": "code",
   "execution_count": 634,
   "metadata": {},
   "outputs": [
    {
     "data": {
      "text/plain": [
       "198"
      ]
     },
     "execution_count": 634,
     "metadata": {},
     "output_type": "execute_result"
    }
   ],
   "source": [
    "len(np.unique(fc_0, axis=0))"
   ]
  },
  {
   "cell_type": "code",
   "execution_count": 635,
   "metadata": {},
   "outputs": [],
   "source": [
    "rc_19 = np.array([cf6.func(c)[0] for c in fc_0])\n",
    "rc_20 = np.array([cf6.func(c)[1] for c in fc_0])"
   ]
  },
  {
   "cell_type": "code",
   "execution_count": 636,
   "metadata": {},
   "outputs": [],
   "source": [
    "nsga_x,nsga_y = p.read_plotout(\"NSGAII_outs/CF6/plot_cf6_p400_g25.out\")"
   ]
  },
  {
   "cell_type": "code",
   "execution_count": 637,
   "metadata": {},
   "outputs": [
    {
     "data": {
      "image/png": "[encoded data removed]",
      "text/plain": [
       "<Figure size 432x288 with 1 Axes>"
      ]
     },
     "metadata": {},
     "output_type": "display_data"
    }
   ],
   "source": [
    "plt.plot(rc_19,rc_20,'bo',label=\"MOEC\")\n",
    "plt.plot(nsga_x,nsga_y,'ro',label=\"NSGAII\")\n",
    "plt.xlabel(\"Objective 1\")\n",
    "plt.ylabel(\"Objective 2\")\n",
    "plt.legend(bbox_to_anchor=(1.05, 1), loc=2, borderaxespad=0.)\n",
    "plt.show()"
   ]
  },
  {
   "cell_type": "markdown",
   "metadata": {},
   "source": [
    "### CF6 without constraint handling\n",
    "* Population 80\n",
    "* Generations 50\n",
    "* Constraint weights: 100,100"
   ]
  },
  {
   "cell_type": "code",
   "execution_count": 22,
   "metadata": {},
   "outputs": [],
   "source": [
    "m_cf6_2 = a1.MOEC(80,50,20,0.5,0.5,20,problem=cf6_4d.CF6())"
   ]
  },
  {
   "cell_type": "code",
   "execution_count": 23,
   "metadata": {},
   "outputs": [],
   "source": [
    "f_cf6_2 = m_cf6_2.run()"
   ]
  },
  {
   "cell_type": "code",
   "execution_count": 24,
   "metadata": {},
   "outputs": [],
   "source": [
    "res_1 = np.array([cf6.func(c)[0] for c in f_cf6_2])\n",
    "res_2 = np.array([cf6.func(c)[1] for c in f_cf6_2])"
   ]
  },
  {
   "cell_type": "code",
   "execution_count": 25,
   "metadata": {},
   "outputs": [
    {
     "data": {
      "image/png": "[encoded data removed]",
      "text/plain": [
       "<Figure size 432x288 with 1 Axes>"
      ]
     },
     "metadata": {},
     "output_type": "display_data"
    }
   ],
   "source": [
    "plt.plot(res_1,res_2,'bo')\n",
    "plt.plot(nsga_x,nsga_y,'rx')\n",
    "plt.show()"
   ]
  },
  {
   "cell_type": "code",
   "execution_count": 26,
   "metadata": {},
   "outputs": [],
   "source": [
    "con_1 = np.array([cf6.const(c)[0] for c in f_cf6_2])\n",
    "con_2 = np.array([cf6.const(c)[1] for c in f_cf6_2])"
   ]
  },
  {
   "cell_type": "code",
   "execution_count": 27,
   "metadata": {},
   "outputs": [
    {
     "data": {
      "image/png": "[encoded data removed]",
      "text/plain": [
       "<Figure size 432x288 with 1 Axes>"
      ]
     },
     "metadata": {},
     "output_type": "display_data"
    }
   ],
   "source": [
    "plt.plot(con_1,con_2,'ro')\n",
    "plt.show()"
   ]
  }
 ],
 "metadata": {
  "kernelspec": {
   "display_name": "Python 3",
   "language": "python",
   "name": "python3"
  },
  "language_info": {
   "codemirror_mode": {
    "name": "ipython",
    "version": 3
   },
   "file_extension": ".py",
   "mimetype": "text/x-python",
   "name": "python",
   "nbconvert_exporter": "python",
   "pygments_lexer": "ipython3",
   "version": "3.5.2"
  }
 },
 "nbformat": 4,
 "nbformat_minor": 2
}
